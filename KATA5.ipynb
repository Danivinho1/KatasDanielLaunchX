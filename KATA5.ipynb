{
 "cells": [
  {
   "cell_type": "markdown",
   "metadata": {},
   "source": [
    "EJERCICIO 1\n"
   ]
  },
  {
   "cell_type": "code",
   "execution_count": 1,
   "metadata": {},
   "outputs": [],
   "source": [
    "#MIS PLANETAS\n",
    "\n",
    "Saturno = 149597870\n",
    "Tierra = 778547200\n"
   ]
  },
  {
   "cell_type": "code",
   "execution_count": 2,
   "metadata": {},
   "outputs": [
    {
     "name": "stdout",
     "output_type": "stream",
     "text": [
      "628949330\n",
      "390577533.93\n"
     ]
    }
   ],
   "source": [
    "#Cálculo de distancia entre los dos planetas\n",
    "distanciaKM= Tierra - Saturno\n",
    "print(distanciaKM)\n",
    "\n",
    "distanciaMI= distanciaKM*0.621\n",
    "print(distanciaMI)"
   ]
  },
  {
   "cell_type": "markdown",
   "metadata": {},
   "source": [
    "EJERCICIO 2\n",
    "\n",
    "Leer la distancia del sol para dos planetas, y luego mostrar la distancia entre los planetas. Haremos esto usando input para leer los valores, int para convertir a entero y luego abs para convertir el resultado en su valor absoluto."
   ]
  },
  {
   "cell_type": "code",
   "execution_count": 10,
   "metadata": {},
   "outputs": [],
   "source": [
    "#Almacenar entradas del usuario\n",
    "kepler21 = input('¿Cuál es la distancia en kilometros del sol hacia el primer planeta?')\n",
    "kepler18 = input('¿Cuál es la distancia en kilometros del sol hacia el segundo planeta?')\n"
   ]
  },
  {
   "cell_type": "code",
   "execution_count": 25,
   "metadata": {},
   "outputs": [
    {
     "ename": "NameError",
     "evalue": "name 'kepler21' is not defined",
     "output_type": "error",
     "traceback": [
      "\u001b[1;31m---------------------------------------------------------------------------\u001b[0m",
      "\u001b[1;31mNameError\u001b[0m                                 Traceback (most recent call last)",
      "\u001b[1;32mc:\\Users\\danig\\OneDrive\\Escritorio\\vCode.ipynb\\KATA5.ipynb Cell 6'\u001b[0m in \u001b[0;36m<module>\u001b[1;34m\u001b[0m\n\u001b[0;32m      <a href='vscode-notebook-cell:/c%3A/Users/danig/OneDrive/Escritorio/vCode.ipynb/KATA5.ipynb#ch0000011?line=0'>1</a>\u001b[0m \u001b[39m#Cadenas a números\u001b[39;00m\n\u001b[1;32m----> <a href='vscode-notebook-cell:/c%3A/Users/danig/OneDrive/Escritorio/vCode.ipynb/KATA5.ipynb#ch0000011?line=2'>3</a>\u001b[0m kepler21 \u001b[39m=\u001b[39m \u001b[39mint\u001b[39m (kepler21)\n\u001b[0;32m      <a href='vscode-notebook-cell:/c%3A/Users/danig/OneDrive/Escritorio/vCode.ipynb/KATA5.ipynb#ch0000011?line=3'>4</a>\u001b[0m kepler18 \u001b[39m=\u001b[39m \u001b[39mint\u001b[39m (kepler18)\n",
      "\u001b[1;31mNameError\u001b[0m: name 'kepler21' is not defined"
     ]
    }
   ],
   "source": [
    "#Cadenas a números\n",
    "\n",
    "kepler21 = int (kepler21)\n",
    "kepler18 = int (kepler18)"
   ]
  },
  {
   "cell_type": "code",
   "execution_count": 26,
   "metadata": {},
   "outputs": [
    {
     "ename": "TypeError",
     "evalue": "unsupported operand type(s) for -: 'str' and 'str'",
     "output_type": "error",
     "traceback": [
      "\u001b[1;31m---------------------------------------------------------------------------\u001b[0m",
      "\u001b[1;31mTypeError\u001b[0m                                 Traceback (most recent call last)",
      "\u001b[1;32mc:\\Users\\danig\\OneDrive\\Escritorio\\vCode.ipynb\\KATA5.ipynb Cell 7'\u001b[0m in \u001b[0;36m<module>\u001b[1;34m\u001b[0m\n\u001b[0;32m      <a href='vscode-notebook-cell:/c%3A/Users/danig/OneDrive/Escritorio/vCode.ipynb/KATA5.ipynb#ch0000008?line=0'>1</a>\u001b[0m \u001b[39m#Cálculo y valor absoluto\u001b[39;00m\n\u001b[1;32m----> <a href='vscode-notebook-cell:/c%3A/Users/danig/OneDrive/Escritorio/vCode.ipynb/KATA5.ipynb#ch0000008?line=1'>2</a>\u001b[0m distanciaKM\u001b[39m=\u001b[39m planeta2 \u001b[39m-\u001b[39;49m planeta1\n\u001b[0;32m      <a href='vscode-notebook-cell:/c%3A/Users/danig/OneDrive/Escritorio/vCode.ipynb/KATA5.ipynb#ch0000008?line=2'>3</a>\u001b[0m \u001b[39mprint\u001b[39m(distanciaKM)\n\u001b[0;32m      <a href='vscode-notebook-cell:/c%3A/Users/danig/OneDrive/Escritorio/vCode.ipynb/KATA5.ipynb#ch0000008?line=4'>5</a>\u001b[0m distanciaMI\u001b[39m=\u001b[39m distanciaKM\u001b[39m*\u001b[39m\u001b[39m0.621\u001b[39m\n",
      "\u001b[1;31mTypeError\u001b[0m: unsupported operand type(s) for -: 'str' and 'str'"
     ]
    }
   ],
   "source": [
    "#Cálculo y valor absoluto\n",
    "distanciaKM= planeta2 - planeta1\n",
    "print(distanciaKM)\n",
    "\n",
    "distanciaMI= distanciaKM*0.621\n",
    "print(abs(distanciaMI))"
   ]
  }
 ],
 "metadata": {
  "interpreter": {
   "hash": "fdc1a55c987644af983b3b11ebcd0b1e881f8986663a6ccf33efa978e068fe91"
  },
  "kernelspec": {
   "display_name": "Python 3.10.2 64-bit (windows store)",
   "language": "python",
   "name": "python3"
  },
  "language_info": {
   "codemirror_mode": {
    "name": "ipython",
    "version": 3
   },
   "file_extension": ".py",
   "mimetype": "text/x-python",
   "name": "python",
   "nbconvert_exporter": "python",
   "pygments_lexer": "ipython3",
   "version": "3.10.2"
  },
  "orig_nbformat": 4
 },
 "nbformat": 4,
 "nbformat_minor": 2
}
