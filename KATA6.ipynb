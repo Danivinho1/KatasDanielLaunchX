{
 "cells": [
  {
   "cell_type": "markdown",
   "metadata": {},
   "source": [
    "EJERCICIO 1"
   ]
  },
  {
   "cell_type": "code",
   "execution_count": 1,
   "metadata": {},
   "outputs": [
    {
     "name": "stdout",
     "output_type": "stream",
     "text": [
      "En la lista tenemos 8 planetas\n"
     ]
    }
   ],
   "source": [
    "planets= ['Mercurio','Venus','Tierra','Marte','Jupiter','Saturno','Urano','Neptuno']\n",
    "print('En la lista tenemos', len(planets), 'planetas')"
   ]
  },
  {
   "cell_type": "code",
   "execution_count": 2,
   "metadata": {},
   "outputs": [
    {
     "name": "stdout",
     "output_type": "stream",
     "text": [
      "Plutón es el último planeta de la lista\n"
     ]
    }
   ],
   "source": [
    "planets.append('Plutón')\n",
    "print(planets[-1], 'es el último planeta de la lista')"
   ]
  },
  {
   "cell_type": "markdown",
   "metadata": {},
   "source": [
    "EJERCICIO 2"
   ]
  },
  {
   "cell_type": "code",
   "execution_count": 3,
   "metadata": {},
   "outputs": [
    {
     "name": "stdout",
     "output_type": "stream",
     "text": [
      "Planetas más cercanos al Sol que Mercurio\n",
      "[]\n"
     ]
    }
   ],
   "source": [
    "Planetas=['Mercurio','Venus','Tierra','Marte','Jupiter','Saturno','Uranio','Neptuno']          \n",
    "nuevo_planet=input('Ingrees el nombre del nuevo planeta que desea buscar (ponga en mayúscula la primer letra):  ')\n",
    "find_planet= Planetas.index(nuevo_planet)\n",
    "print('Planetas más cercanos al Sol que '+ nuevo_planet)\n",
    "print(Planetas[0:find_planet])"
   ]
  },
  {
   "cell_type": "code",
   "execution_count": 4,
   "metadata": {},
   "outputs": [
    {
     "name": "stdout",
     "output_type": "stream",
     "text": [
      "Planetas má alejados que Mercurio\n",
      "['Venus', 'Tierra', 'Marte', 'Jupiter', 'Saturno', 'Uranio', 'Neptuno']\n"
     ]
    }
   ],
   "source": [
    "print('Planetas má alejados que '+nuevo_planet)\n",
    "print(Planetas[find_planet+1:])"
   ]
  }
 ],
 "metadata": {
  "interpreter": {
   "hash": "b89b5cfaba6639976dc87ff2fec6d58faec662063367e2c229c520fe71072417"
  },
  "kernelspec": {
   "display_name": "Python 3.10.0 64-bit",
   "language": "python",
   "name": "python3"
  },
  "language_info": {
   "codemirror_mode": {
    "name": "ipython",
    "version": 3
   },
   "file_extension": ".py",
   "mimetype": "text/x-python",
   "name": "python",
   "nbconvert_exporter": "python",
   "pygments_lexer": "ipython3",
   "version": "3.10.0"
  },
  "orig_nbformat": 4
 },
 "nbformat": 4,
 "nbformat_minor": 2
}
