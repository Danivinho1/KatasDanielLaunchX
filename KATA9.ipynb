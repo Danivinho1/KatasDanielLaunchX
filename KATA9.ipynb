{
 "cells": [
  {
   "cell_type": "code",
   "execution_count": 1,
   "metadata": {},
   "outputs": [
    {
     "data": {
      "text/plain": [
       "'El promedio del combustible es: 7.0'"
      ]
     },
     "execution_count": 1,
     "metadata": {},
     "output_type": "execute_result"
    }
   ],
   "source": [
    "# Función para leer 3 tanques de combustible y muestre el promedio\n",
    "#def promedio_combustible(tanque_uno, tanque_dos, tanque_3):\n",
    "#    promedio = (tanque_uno + tanque_dos + tanque_tres) / 3\n",
    "#    return \"El promedio de combustible es: \" + str(promedio)\n",
    "\n",
    "# Llamamos a la función que genera el reporte print(funcion(tanque1, tanque2, tanque3))\n",
    "#promedio_combustible(4, 10, 7)\n",
    "\n",
    "# Función promedio \n",
    "def promedio(valores):\n",
    "    suma = sum(valores)\n",
    "    n_valores = len(valores)\n",
    "    return suma / n_valores\n",
    "\n",
    "# Actualiza la función\n",
    "def mostrar_promedio(tanque_uno, tanque_dos, tanque_tres):\n",
    "    return \"El promedio del combustible es: \" + str(promedio([tanque_uno, tanque_dos, tanque_tres]))\n",
    "\n",
    "mostrar_promedio(4, 10, 7)"
   ]
  },
  {
   "cell_type": "code",
   "execution_count": 4,
   "metadata": {},
   "outputs": [
    {
     "name": "stdout",
     "output_type": "stream",
     "text": [
      "\n",
      "    Mision a Moon\n",
      "    Tiempo total de vuelo: 74 minutos\n",
      "    Tanque disponible: 500000\n",
      "    tanque interno --> 300000 litros quedan\n",
      "tanque externo --> 200000 litros quedan\n",
      "\n"
     ]
    }
   ],
   "source": [
    "# Función con un informe preciso de la misión. Considera hora de prelanzamiento, tiempo de vuelo, destino, tanque externo y tanque interno\n",
    "\n",
    "#def informe_mision(hora_lanzamiento, tiempo_vuelo, destino, tanque_externo, tanque_interno):\n",
    "#    return f\"\"\"\n",
    "#    Mision a {destino}\n",
    "#    Tiempo total de vuelo: {hora_lanzamiento + tiempo_vuelo} minutos\n",
    "#    Tanque disponible: {tanque_externo + tanque_interno} L\n",
    "#    \"\"\"\n",
    "\n",
    "#print(informe_mision(14, 51, \"Moon\", 200000, 300000))\n",
    "\n",
    "# Escribe tu nueva función de reporte considerando lo anterior\n",
    "\n",
    "#def informe_mision(destino, *minutes, **fuel_reservoirs):\n",
    "#    return f\"\"\"\n",
    "#    Mission to {destino}\n",
    "#    Tiempo total de vuelo: {sum(minutes)} minutos\n",
    "#    Tanque disponible: {sum(fuel_reservoirs.values())}\n",
    "#    \"\"\"\n",
    "\n",
    "#print(informe_mision(\"Moon\", 10, 15, 51, main=300000, external=200000))\n",
    "\n",
    "# Escribe tu nueva función\n",
    "\n",
    "def informe_mision(destino, *minutes, **fuel_reservoirs):\n",
    "    informe = f\"\"\"\n",
    "    Mision a {destino}\n",
    "    Tiempo total de vuelo: {sum(minutes)} minutos\n",
    "    Tanque disponible: {sum(fuel_reservoirs.values())}\n",
    "    \"\"\"\n",
    "    for tanque, litros in fuel_reservoirs.items():\n",
    "        informe += f\"tanque {tanque} --> {litros} litros quedan\\n\"\n",
    "    return informe\n",
    "\n",
    "print(informe_mision(\"Moon\", 8, 11, 55, interno=300000, externo=200000))"
   ]
  }
 ],
 "metadata": {
  "interpreter": {
   "hash": "b89b5cfaba6639976dc87ff2fec6d58faec662063367e2c229c520fe71072417"
  },
  "kernelspec": {
   "display_name": "Python 3.10.0 64-bit",
   "language": "python",
   "name": "python3"
  },
  "language_info": {
   "codemirror_mode": {
    "name": "ipython",
    "version": 3
   },
   "file_extension": ".py",
   "mimetype": "text/x-python",
   "name": "python",
   "nbconvert_exporter": "python",
   "pygments_lexer": "ipython3",
   "version": "3.10.0"
  },
  "orig_nbformat": 4
 },
 "nbformat": 4,
 "nbformat_minor": 2
}
