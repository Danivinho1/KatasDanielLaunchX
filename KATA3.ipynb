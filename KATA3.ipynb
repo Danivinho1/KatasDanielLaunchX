{
 "cells": [
  {
   "cell_type": "code",
   "execution_count": 45,
   "metadata": {},
   "outputs": [
    {
     "name": "stdout",
     "output_type": "stream",
     "text": [
      "¡¡Por favor evacuar el area de impacto, un asteroide se acerca a gran velocidad!!\n"
     ]
    }
   ],
   "source": [
    "asteroide: 49\n",
    "if asteroide > 25: \n",
    "    print (\"¡¡Por favor evacuar el area de impacto, un asteroide se acerca a gran velocidad!!\")\n",
    "else:\n",
    "        print(\"¡¡No te preocupes, el asteroide se destruire antes de entrar a la atmosfera!!\")\n",
    "\n",
    "    "
   ]
  },
  {
   "cell_type": "code",
   "execution_count": 58,
   "metadata": {},
   "outputs": [
    {
     "name": "stdout",
     "output_type": "stream",
     "text": [
      "Nada que ver, sigue con tu dia\n"
     ]
    }
   ],
   "source": [
    "star = 19\n",
    "if star > 20:\n",
    "    print(\"Ve al cielo, hay un espectaculo de luz\")\n",
    "elif star == 20:\n",
    "    print(\"Ve el cielo, hay un espectaculo de luz\")\n",
    "else:\n",
    "    print(\"Nada que ver, sigue con tu dia\")\n",
    "\n"
   ]
  },
  {
   "cell_type": "code",
   "execution_count": 68,
   "metadata": {},
   "outputs": [
    {
     "name": "stdout",
     "output_type": "stream",
     "text": [
      "Ve el cielo, hay un espectaculo de luz\n"
     ]
    }
   ],
   "source": [
    "Vel_Aster = 25\n",
    "Tam_Aster = 40 \n",
    "if Vel_Aster > 25 and Tam_Aster > 25: \n",
    "    print(\"¡Alertaaaa, alerta maxima. La tierra esta en peligro!\")\n",
    "elif Vel_Aster >= 20:\n",
    "        print(\"Ve el cielo, hay un espectaculo de luz\")\n",
    "elif Tam_Aster <25:\n",
    "        print(\"Nada que ver, sigue con tu dia\")\n",
    "else:\n",
    "        print(\"Nada que ver, sigue con tu dia\")\n"
   ]
  }
 ],
 "metadata": {
  "interpreter": {
   "hash": "b89b5cfaba6639976dc87ff2fec6d58faec662063367e2c229c520fe71072417"
  },
  "kernelspec": {
   "display_name": "Python 3.10.0 64-bit",
   "language": "python",
   "name": "python3"
  },
  "language_info": {
   "codemirror_mode": {
    "name": "ipython",
    "version": 3
   },
   "file_extension": ".py",
   "mimetype": "text/x-python",
   "name": "python",
   "nbconvert_exporter": "python",
   "pygments_lexer": "ipython3",
   "version": "3.10.0"
  },
  "orig_nbformat": 4
 },
 "nbformat": 4,
 "nbformat_minor": 2
}
